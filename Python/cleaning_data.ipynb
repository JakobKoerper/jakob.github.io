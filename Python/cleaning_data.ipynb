{
 "cells": [
  {
   "cell_type": "code",
   "execution_count": 13,
   "metadata": {},
   "outputs": [],
   "source": [
    "import xlrd\n",
    "import agate\n",
    "\n",
    "\n"
   ]
  },
  {
   "cell_type": "code",
   "execution_count": 11,
   "metadata": {},
   "outputs": [
    {
     "data": {
      "text/plain": [
       "[u'Child labour  ']"
      ]
     },
     "execution_count": 11,
     "metadata": {},
     "output_type": "execute_result"
    }
   ],
   "source": [
    "workbook = xlrd.open_workbook('unicef_oct_2014.xls')\n",
    "workbook.nsheets\n",
    "workbook.sheet_names()"
   ]
  },
  {
   "cell_type": "code",
   "execution_count": 12,
   "metadata": {},
   "outputs": [
    {
     "name": "stdout",
     "output_type": "stream",
     "text": [
      "0 [text:u'UNICEF global databases', empty:u'', empty:u'', empty:u'', empty:u'', empty:u'', empty:u'', empty:u'', empty:u'', empty:u'', empty:u'', empty:u'', empty:u'', empty:u'']\n",
      "1 [text:u'Child labour', empty:u'', empty:u'', empty:u'', empty:u'', empty:u'', empty:u'', empty:u'', empty:u'', empty:u'', empty:u'', empty:u'', empty:u'', empty:u'']\n",
      "2 [text:u'Updated November 2014', empty:u'', empty:u'', empty:u'', empty:u'', empty:u'', empty:u'', empty:u'', empty:u'', empty:u'', empty:u'', empty:u'', empty:u'', empty:u'']\n",
      "3 [empty:u'', empty:u'', empty:u'', empty:u'', empty:u'', empty:u'', empty:u'', empty:u'', empty:u'', empty:u'', empty:u'', empty:u'', empty:u'', empty:u'']\n",
      "4 [empty:u'', text:u'Total (%)', empty:u'', text:u'Sex (%)', empty:u'', text:u'Place of residence (%)', empty:u'', text:u'Household wealth quintile (%)', empty:u'', empty:u'', empty:u'', empty:u'', text:u'Reference Year', text:u'Data Source']\n",
      "5 [text:u'Countries and areas', empty:u'', empty:u'', text:u'Male', text:u'Female', text:u'Urban', text:u'Rural', text:u'Poorest', text:u'Second', text:u'Middle', text:u'Fourth', text:u'Richest', empty:u'', empty:u'']\n",
      "6 [text:u'Afghanistan', number:10.3, empty:u'', number:11.0, number:9.6, number:7.9, number:10.8, number:11.9, number:11.8, number:10.1, number:9.7, number:7.8, text:u'2010-2011', text:u'MICS']\n",
      "7 [text:u'Albania', number:5.1, text:u'y', number:6.2, number:3.9, text:u'-', text:u'-', text:u'-', text:u'-', text:u'-', text:u'-', text:u'-', number:2010.0, text:u'National Child Labour Survey']\n",
      "8 [text:u'Algeria', number:4.7, text:u'y', number:5.5, number:3.9, number:3.9, number:5.6, number:7.3, number:4.5, number:4.1, number:3.1, number:3.8, number:2006.0, text:u'MICS']\n",
      "9 [text:u'Angola', number:23.5, empty:u'', number:22.1, number:24.8, text:u'-', text:u'-', text:u'-', text:u'-', text:u'-', text:u'-', text:u'-', number:2001.0, text:u'MICS']\n",
      "10 [text:u'Argentina', number:4.4, empty:u'', number:4.8, number:3.9, text:u'-', text:u'-', number:6.8, number:3.9, number:3.3, number:3.7, number:3.1, text:u'2011/2012', text:u'MICS']\n",
      "11 [text:u'Armenia', number:3.9, empty:u'', number:4.7, number:2.9, number:2.4, number:6.0, number:6.9, number:4.1, number:3.2, number:2.4, number:2.4, number:2010.0, text:u'ARM_DHS _2010']\n",
      "12 [text:u'Azerbaijan', number:6.5, text:u'y', number:7.5, number:5.4, number:2.1, number:10.7, text:u'-', text:u'-', text:u'-', text:u'-', text:u'-', number:2005.0, text:u'Dayioglu, Meltem. 2007. Working children in Azerbaijan: An analysis of the 2005 child labour and labouring children surveys. State Statistical Committee of Azerbaijan and ILO']\n",
      "13 [text:u'Bahrain', number:4.6, empty:u'', number:6.3, number:3.0, text:u'-', text:u'-', text:u'-', text:u'-', text:u'-', text:u'-', text:u'-', number:2000.0, text:u'MICS']\n",
      "14 [text:u'Bangladesh', number:12.8, empty:u'', number:17.5, number:8.1, number:11.2, number:13.4, number:16.0, number:14.7, number:13.0, number:10.5, number:8.2, number:2006.0, text:u'MICS']\n",
      "15 [text:u'Belarus', number:1.4, empty:u'', number:1.4, number:1.5, number:1.3, number:1.8, number:1.0, number:2.4, number:1.2, number:1.7, number:1.0, number:2012.0, text:u'MICS']\n",
      "16 [text:u'Belize', number:5.8, empty:u'', number:6.7, number:5.0, number:3.2, number:7.4, number:8.4, number:8.4, number:4.9, number:2.8, number:3.1, number:2011.0, text:u'MICS']\n",
      "17 [text:u'Benin', number:15.3, empty:u'', number:14.9, number:15.6, number:10.5, number:18.1, number:19.6, number:19.9, number:16.8, number:10.9, number:6.0, text:u'2011-2012', text:u'DHS']\n",
      "18 [text:u'Bhutan', number:2.9, empty:u'', number:2.6, number:3.1, number:1.7, number:3.3, number:4.5, number:3.2, number:2.2, number:2.4, number:2.2, number:2010.0, text:u'MICS']\n",
      "19 [text:u'Bolivia (Plurinational State of)', number:26.4, text:u'y', number:28.2, number:24.4, number:15.1, number:64.6, text:u'-', text:u'-', text:u'-', text:u'-', text:u'-', number:2008.0, text:u'ETI']\n",
      "20 [text:u'Bosnia and Herzegovina', number:5.3, empty:u'', number:6.6, number:3.9, number:3.2, number:6.4, number:4.5, number:11.1, number:5.0, number:2.8, number:3.6, number:2006.0, text:u'MICS']\n",
      "21 [text:u'Botswana', number:9.0, text:u'y', number:10.9, number:7.0, number:11.3, number:12.6, text:u'-', text:u'-', text:u'-', text:u'-', text:u'-', text:u'2005-2006', text:u'Botswana Labour Force Survey']\n",
      "22 [text:u'Brazil', number:8.3, text:u'y', number:10.6, number:6.0, text:u'-', text:u'-', text:u'-', text:u'-', text:u'-', text:u'-', text:u'-', number:2012.0, text:u'IBGE PNAD']\n",
      "23 [text:u'Burkina Faso', number:39.2, empty:u'', number:42.3, number:36.0, number:17.3, number:44.0, number:48.0, number:44.6, number:42.5, number:37.9, number:18.1, number:2010.0, text:u'DHS']\n",
      "24 [text:u'Burundi', number:26.3, empty:u'', number:25.5, number:27.1, number:14.5, number:27.4, number:26.8, number:28.0, number:28.4, number:26.8, number:21.1, number:2010.0, text:u'DHS']\n",
      "25 [text:u'Cabo Verde', number:6.4, text:u'y', text:u'-', text:u'-', text:u'-', text:u'-', text:u'-', text:u'-', text:u'-', text:u'-', text:u'-', number:2012.0, text:u'Inquerito Multi-Objectivo Continuo (prelim)']\n",
      "26 [text:u'Cambodia', number:18.3, text:u'y', number:19.2, number:17.4, text:u'-', text:u'-', text:u'-', text:u'-', text:u'-', text:u'-', text:u'-', number:2013.0, text:u'CSES']\n",
      "27 [text:u'Cameroon', number:41.7, empty:u'', number:43.1, number:40.2, number:27.2, number:52.8, number:55.9, number:52.9, number:42.5, number:31.9, number:17.6, number:2011.0, text:u'DHS']\n",
      "28 [text:u'Central African Republic', number:28.5, empty:u'', number:27.2, number:29.9, number:21.2, number:33.0, number:35.8, number:36.0, number:32.2, number:21.8, number:17.0, number:2010.0, text:u'MICS']\n",
      "29 [text:u'Chad', number:26.1, empty:u'', number:24.5, number:27.8, number:23.6, number:26.8, number:27.0, number:26.1, number:28.4, number:27.2, number:21.5, number:2010.0, text:u'MICS']\n",
      "30 [text:u'Chile', number:6.6, text:u'y', text:u'-', text:u'-', text:u'-', text:u'-', text:u'-', text:u'-', text:u'-', text:u'-', text:u'-', number:2012.0, text:u'EANNA']\n",
      "31 [text:u'Colombia', number:9.7, text:u'y', number:12.5, number:6.6, number:7.4, number:15.8, text:u'-', text:u'-', text:u'-', text:u'-', text:u'-', number:2013.0, text:u'ENTI']\n",
      "32 [text:u'Comoros', number:22.0, empty:u'', number:20.2, number:23.8, number:16.5, number:24.3, number:29.6, number:25.1, number:20.8, number:18.4, number:10.8, number:2012.0, text:u'DHS']\n",
      "33 [text:u'Congo', number:18.4, empty:u'', number:17.7, number:19.0, number:13.5, number:25.7, number:29.1, number:21.9, number:13.4, number:15.9, number:9.5, text:u'2011-2012', text:u'DHS']\n",
      "34 [text:u'Costa Rica', number:4.1, empty:u'', number:3.5, number:4.6, number:4.0, number:4.2, number:6.2, number:3.0, number:2.2, number:4.7, number:3.6, number:2011.0, text:u'MICS']\n",
      "35 [text:u\"C\\xf4te d'Ivoire\", number:26.4, empty:u'', number:25.4, number:27.5, number:15.6, number:33.9, number:36.9, number:30.2, number:30.3, number:20.4, number:12.5, text:u'2011-2012', text:u'DHS']\n",
      "36 [text:u'Democratic Republic of the Congo', number:15.0, empty:u'', number:13.1, number:16.8, number:10.3, number:16.9, number:16.3, number:16.2, number:15.9, number:16.9, number:9.2, number:2010.0, text:u'MICS']\n",
      "37 [text:u'Djibouti', number:7.7, empty:u'', number:7.6, number:7.7, number:7.6, number:9.7, text:u'-', text:u'-', text:u'-', text:u'-', text:u'-', number:2006.0, text:u'MICS']\n",
      "38 [text:u'Dominican Republic', number:12.9, empty:u'', number:17.5, number:7.9, number:10.6, number:17.1, number:18.5, number:17.6, number:10.4, number:10.1, number:5.1, text:u'2009-2010', text:u'ENHOGAR']\n",
      "39 [text:u'Ecuador', number:8.6, text:u'y', text:u'-', text:u'-', number:4.3, number:15.5, text:u'-', text:u'-', text:u'-', text:u'-', text:u'-', number:2012.0, text:u'ENTI']\n",
      "40 [text:u'Egypt', number:9.3, text:u'y', number:14.3, number:4.0, text:u'-', text:u'-', text:u'-', text:u'-', text:u'-', text:u'-', text:u'-', number:2010.0, text:u'National Child Labour Survey']\n",
      "41 [text:u'El Salvador', number:8.5, text:u'y', number:12.7, number:4.2, number:5.7, number:12.4, number:8.2, number:6.7, number:8.1, number:9.9, number:9.3, number:2013.0, text:u'EHPM']\n",
      "42 [text:u'Equatorial Guinea', number:27.8, empty:u'', number:27.9, number:27.6, text:u'-', text:u'-', text:u'-', text:u'-', text:u'-', text:u'-', text:u'-', number:2000.0, text:u'MICS']\n",
      "43 [text:u'Ethiopia', number:27.4, empty:u'', number:31.1, number:23.5, number:13.3, number:29.7, number:31.3, number:30.8, number:30.2, number:27.0, number:14.7, number:2011.0, text:u'DHS']\n",
      "44 [text:u'Gabon', number:13.4, empty:u'', number:15.4, number:11.6, number:11.0, number:26.6, number:26.4, number:12.5, number:12.3, number:7.9, number:7.5, number:2012.0, text:u'DHS']\n",
      "45 [text:u'Gambia', number:19.2, empty:u'', number:20.9, number:17.5, number:9.5, number:26.0, number:28.1, number:20.7, number:18.8, number:16.6, number:8.6, number:2010.0, text:u'MICS']\n",
      "46 [text:u'Georgia', number:18.4, empty:u'', number:20.0, number:16.6, number:16.1, number:20.4, number:17.8, number:21.5, number:19.7, number:17.8, number:15.0, number:2005.0, text:u'MICS']\n",
      "47 [text:u'Ghana', number:33.9, empty:u'', number:33.8, number:34.0, number:19.7, number:42.5, number:47.9, number:46.1, number:30.8, number:24.0, number:13.7, number:2006.0, text:u'MICS']\n",
      "48 [text:u'Guatemala', number:25.8, text:u'y', number:35.1, number:16.1, number:20.7, number:32.6, text:u'-', text:u'-', text:u'-', text:u'-', text:u'-', number:2012.0, text:u'ENEI']\n",
      "49 [text:u'Guinea', number:28.3, empty:u'', number:29.2, number:27.4, number:11.9, number:35.2, number:40.0, number:34.3, number:32.3, number:22.6, number:8.8, number:2012.0, text:u'DHS']\n",
      "50 [text:u'Guinea-Bissau', number:38.0, empty:u'', number:39.5, number:36.4, number:23.0, number:47.6, number:50.7, number:48.7, number:41.7, number:23.4, number:15.4, number:2010.0, text:u'MICS']\n",
      "51 [text:u'Guyana', number:16.4, empty:u'', number:17.3, number:15.5, number:9.0, number:19.0, number:29.4, number:17.3, number:13.1, number:11.5, number:3.9, number:2006.0, text:u'MICS']\n",
      "52 [text:u'Haiti', number:24.4, empty:u'', number:24.5, number:24.3, number:15.8, number:29.2, number:33.7, number:29.9, number:23.8, number:18.5, number:10.6, number:2012.0, text:u'DHS']\n",
      "53 [text:u'Honduras', number:14.0, text:u'y', number:22.1, number:5.9, number:9.1, number:17.1, text:u'-', text:u'-', text:u'-', text:u'-', text:u'-', number:2013.0, text:u'Encuesta Permanente de Hogares de Propositos Multiples, UCW calculations']\n",
      "54 [text:u'India', number:11.8, empty:u'', number:11.6, number:11.9, number:8.6, number:12.9, number:14.2, number:14.0, number:12.2, number:9.3, number:6.4, text:u'2005-2006', text:u'NFHS']\n",
      "55 [text:u'Indonesia', number:6.9, text:u'y', number:7.9, number:5.8, text:u'-', text:u'-', text:u'-', text:u'-', text:u'-', text:u'-', text:u'-', number:2009.0, text:u' Indonesia Child Labour Survey']\n",
      "56 [text:u'Iran (Islamic Republic of)', number:11.4, text:u'y', number:12.5, number:10.2, number:9.5, number:15.0, text:u'-', text:u'-', text:u'-', text:u'-', text:u'-', number:2010.0, text:u'MIDHS']\n",
      "57 [text:u'Iraq', number:4.7, empty:u'', number:5.4, number:4.0, number:3.3, number:7.6, number:7.9, number:5.0, number:3.7, number:3.8, number:1.8, number:2011.0, text:u'MICS']\n",
      "58 [text:u'Jamaica', number:3.3, empty:u'', number:3.5, number:3.2, number:3.9, number:2.7, number:4.4, number:4.7, number:2.2, number:3.1, number:1.6, number:2011.0, text:u'MICS']\n",
      "59 [text:u'Jordan', number:1.6, text:u'y', number:2.8, number:0.3, text:u'-', text:u'-', text:u'-', text:u'-', text:u'-', text:u'-', text:u'-', number:2007.0, text:u'Child Labour Survey']\n",
      "60 [text:u'Kazakhstan', number:2.2, empty:u'', number:2.4, number:2.1, number:2.5, number:1.9, number:1.8, number:2.1, number:2.8, number:2.4, number:2.2, number:2006.0, text:u'MICS']\n",
      "61 [text:u'Kenya', number:25.9, empty:u'', number:26.5, number:25.2, text:u'-', text:u'-', text:u'-', text:u'-', text:u'-', text:u'-', text:u'-', number:2000.0, text:u'MICS']\n",
      "62 [text:u'Kyrgyzstan', number:3.6, empty:u'', number:4.3, number:2.9, number:1.9, number:4.5, number:1.9, number:3.7, number:4.7, number:5.0, number:2.8, number:2006.0, text:u'MICS']\n",
      "63 [text:u\"Lao People's Democratic Republic\", number:10.1, text:u'y', number:9.0, number:11.2, text:u'-', text:u'-', text:u'-', text:u'-', text:u'-', text:u'-', text:u'-', number:2010.0, text:u'National Child Labour Survey ']\n",
      "64 [text:u'Lebanon', number:1.9, empty:u'', number:2.7, number:0.9, text:u'-', text:u'-', text:u'-', text:u'-', text:u'-', text:u'-', text:u'-', number:2009.0, text:u'MICS']\n",
      "65 [text:u'Lesotho', number:22.9, empty:u'', number:25.0, number:20.7, text:u'-', text:u'-', text:u'-', text:u'-', text:u'-', text:u'-', text:u'-', number:2000.0, text:u'MICS']\n",
      "66 [text:u'Liberia', number:20.8, empty:u'', number:21.1, number:20.5, number:15.7, number:24.0, number:26.9, number:25.3, number:21.2, number:18.4, number:13.5, number:2007.0, text:u'DHS']\n",
      "67 [text:u'Madagascar', number:22.9, text:u'y', number:23.2, number:22.6, number:15.2, number:24.6, number:27.0, number:25.9, number:23.6, number:20.8, number:13.4, text:u'2012-2013', text:u'ENSOMD']\n",
      "68 [text:u'Malawi', number:25.7, empty:u'', number:25.3, number:26.2, number:13.9, number:27.7, number:26.3, number:29.8, number:29.3, number:26.2, number:18.0, number:2006.0, text:u'MICS']\n",
      "69 [text:u'Mali', number:21.4, empty:u'', number:22.0, number:20.7, number:17.7, number:22.6, number:21.1, number:23.5, number:22.8, number:21.4, number:17.2, number:2010.0, text:u'MICS']\n",
      "70 [text:u'Mauritania', number:14.6, empty:u'', number:14.3, number:14.9, number:7.5, number:16.6, number:25.3, number:18.3, number:10.9, number:8.6, number:4.8, number:2011.0, text:u'MICS']\n",
      "71 [text:u'Mexico', number:6.3, text:u'y', number:7.3, number:5.3, number:5.1, number:8.0, text:u'-', text:u'-', text:u'-', text:u'-', text:u'-', number:2011.0, text:u'Modulo de Trabajo Infantil de la ENOE']\n",
      "72 [text:u'Mongolia', number:10.4, empty:u'', number:10.3, number:10.6, number:8.8, number:16.0, number:14.9, number:11.9, number:11.4, number:8.8, number:3.1, number:2010.0, text:u'MICS']\n",
      "73 [text:u'Montenegro', number:9.9, empty:u'', number:11.7, number:7.8, number:5.5, number:16.5, number:23.7, number:8.7, number:4.8, number:6.4, number:3.2, number:2005.0, text:u'MICS']\n",
      "74 [text:u'Morocco', number:8.3, empty:u'', number:9.1, number:7.5, number:3.5, number:13.3, number:17.7, number:9.6, number:5.0, number:3.2, number:1.9, text:u'2006-2007', text:u'ENIMSJ']\n",
      "75 [text:u'Mozambique', number:22.2, empty:u'', number:20.5, number:23.8, number:15.1, number:25.3, number:24.0, number:22.8, number:25.4, number:23.6, number:14.3, number:2008.0, text:u'MICS']\n",
      "76 [text:u'Nepal', number:33.9, text:u'y', number:30.2, number:37.8, number:14.4, number:36.7, text:u'-', text:u'-', text:u'-', text:u'-', text:u'-', number:2008.0, text:u'Nepal Labour Force Survey']\n",
      "77 [text:u'Nicaragua', number:14.5, empty:u'', number:17.6, number:11.2, text:u'-', text:u'-', text:u'-', text:u'-', text:u'-', text:u'-', text:u'-', number:2001.0, text:u'DHS']\n",
      "78 [text:u'Niger', number:30.5, empty:u'', number:30.8, number:30.1, number:18.1, number:32.6, number:28.8, number:33.3, number:32.9, number:33.6, number:23.0, number:2012.0, text:u'DHS']\n",
      "79 [text:u'Nigeria', number:24.7, empty:u'', number:24.1, number:25.3, number:18.7, number:27.6, number:28.5, number:28.2, number:25.3, number:22.3, number:17.8, number:2011.0, text:u'MICS']\n",
      "80 [text:u'Panama', number:5.6, text:u'y', number:8.0, number:3.0, number:2.5, number:8.6, text:u'-', text:u'-', text:u'-', text:u'-', text:u'-', number:2012.0, text:u'ETI']\n",
      "81 [text:u'Paraguay', number:27.6, text:u'y', number:31.8, number:23.5, number:20.2, number:36.7, number:29.6, number:29.0, number:28.5, number:25.1, number:23.7, number:2011.0, text:u'EANA']\n",
      "82 [text:u'Peru', number:33.5, text:u'y', number:30.6, number:36.3, number:18.2, number:60.9, text:u'-', text:u'-', text:u'-', text:u'-', text:u'-', number:2007.0, text:u'ESTI']\n",
      "83 [text:u'Philippines', number:11.1, text:u'y', number:14.1, number:7.9, text:u'-', text:u'-', text:u'-', text:u'-', text:u'-', text:u'-', text:u'-', number:2011.0, text:u'Survey on Children (prelim)']\n",
      "84 [text:u'Portugal', number:3.4, text:u'y', number:4.2, number:2.5, text:u'-', text:u'-', text:u'-', text:u'-', text:u'-', text:u'-', text:u'-', number:2001.0, text:u'Labour Force Survey, UCW calculations']\n",
      "85 [text:u'Republic of Moldova', number:16.3, empty:u'', number:20.2, number:12.3, text:u'-', text:u'-', text:u'-', text:u'-', text:u'-', text:u'-', text:u'-', number:2009.0, text:u\"Children''s Activities Survey\"]\n",
      "86 [text:u'Romania', number:0.9, empty:u'', number:1.2, number:0.7, text:u'-', text:u'-', text:u'-', text:u'-', text:u'-', text:u'-', text:u'-', number:2000.0, text:u'Household Labour Force Survey, UCW calculations']\n",
      "87 [text:u'Rwanda', number:28.5, empty:u'', number:26.7, number:30.4, number:18.7, number:29.8, number:33.3, number:30.9, number:29.4, number:29.4, number:18.3, number:2010.0, text:u'DHS']\n",
      "88 [text:u'Saint Lucia', number:3.9, empty:u'', number:4.9, number:2.9, number:3.8, number:3.9, text:u'-', text:u'-', text:u'-', text:u'-', text:u'-', number:2012.0, text:u'MICS']\n",
      "89 [text:u'Sao Tome and Principe', number:7.5, empty:u'', number:7.7, number:7.2, number:5.7, number:9.7, number:8.3, number:9.4, number:8.8, number:6.7, number:3.9, number:2006.0, text:u'MICS']\n",
      "90 [text:u'Senegal', number:14.5, empty:u'', number:19.0, number:10.0, number:5.1, number:19.8, number:29.7, number:18.8, number:8.8, number:6.3, number:4.5, text:u'2012-2013', text:u'Continuous DHS']\n",
      "91 [text:u'Serbia', number:4.4, empty:u'', number:4.5, number:4.4, number:3.3, number:5.7, number:8.4, number:5.5, number:2.9, number:2.7, number:2.6, number:2005.0, text:u'MICS']\n",
      "92 [text:u'Sierra Leone', number:26.0, empty:u'', number:27.0, number:25.0, number:18.2, number:29.3, number:29.4, number:32.7, number:30.8, number:24.3, number:11.3, number:2010.0, text:u'MICS']\n",
      "93 [text:u'Somalia', number:49.0, empty:u'', number:44.5, number:53.6, number:36.1, number:56.6, number:62.1, number:59.9, number:50.7, number:39.0, number:31.5, number:2006.0, text:u'MICS']\n",
      "94 [text:u'State of Palestine', number:5.7, empty:u'', number:7.4, number:4.0, number:4.8, number:10.1, number:8.0, number:5.2, number:5.2, number:5.2, number:4.8, number:2010.0, text:u'MICS']\n",
      "95 [text:u'Suriname', number:4.1, empty:u'', number:4.1, number:4.1, number:2.5, number:6.9, number:7.9, number:2.7, number:3.5, number:2.1, number:1.6, number:2010.0, text:u'MICS']\n",
      "96 [text:u'Swaziland', number:7.3, empty:u'', number:7.7, number:6.9, number:6.6, number:7.5, number:9.9, number:6.9, number:8.1, number:5.4, number:5.2, number:2010.0, text:u'MICS']\n",
      "97 [text:u'Syrian Arab Republic', number:4.0, empty:u'', number:5.0, number:3.0, number:2.6, number:5.5, number:6.7, number:5.2, number:3.3, number:2.9, number:1.6, number:2006.0, text:u'MICS']\n",
      "98 [text:u'Tajikistan', number:10.0, empty:u'', number:9.4, number:10.6, number:8.1, number:10.6, number:13.6, number:12.2, number:9.0, number:8.0, number:6.0, number:2005.0, text:u'MICS']\n",
      "99 [text:u'Thailand', number:8.3, empty:u'', number:8.3, number:8.2, number:8.0, number:8.4, number:8.6, number:8.5, number:9.0, number:8.1, number:7.0, number:2006.0, text:u'MICS']\n",
      "100 [text:u'The former Yugoslav Republic of Macedonia', number:12.5, empty:u'', number:12.1, number:13.0, number:8.4, number:16.8, number:20.4, number:12.5, number:14.4, number:8.0, number:6.6, number:2011.0, text:u'MICS']\n",
      "101 [text:u'Timor-Leste', number:4.2, empty:u'', number:4.1, number:4.4, text:u'-', text:u'-', text:u'-', text:u'-', text:u'-', text:u'-', text:u'-', number:2002.0, text:u'MICS']\n",
      "102 [text:u'Togo', number:28.3, empty:u'', number:27.7, number:28.9, number:18.3, number:32.7, number:35.1, number:31.6, number:32.7, number:18.8, number:17.5, number:2010.0, text:u'MICS']\n",
      "103 [text:u'Trinidad and Tobago', number:0.7, empty:u'', number:0.7, number:0.6, text:u'-', text:u'-', number:1.2, number:0.6, number:0.9, number:0.4, number:0.0, number:2006.0, text:u'MICS']\n",
      "104 [text:u'Tunisia', number:2.1, empty:u'', number:2.6, number:1.6, number:1.5, number:3.3, number:2.7, number:2.6, number:1.1, number:1.5, number:2.6, text:u'2011-2012', text:u'MICS']\n",
      "105 [text:u'Turkey', number:5.9, text:u'y', number:7.9, number:3.7, number:3.9, number:9.7, text:u'-', text:u'-', text:u'-', text:u'-', text:u'-', number:2012.0, text:u'Child Labour Force Survey']\n",
      "106 [text:u'Uganda', number:16.3, text:u'y', number:16.9, number:15.6, number:8.8, number:17.4, text:u'-', text:u'-', text:u'-', text:u'-', text:u'-', text:u'2011/2012', text:u'National Labour Force and Child Activities Survey']\n",
      "107 [text:u'Ukraine', number:2.4, empty:u'', number:2.5, number:2.4, number:1.6, number:4.3, number:4.6, number:3.3, number:1.9, number:2.5, number:0.2, number:2012.0, text:u'MICS']\n",
      "108 [text:u'United Republic of Tanzania', number:21.1, text:u'y', number:23.3, number:18.8, number:14.8, number:25.2, text:u'-', text:u'-', text:u'-', text:u'-', text:u'-', number:2006.0, text:u'Integrated Labour Force Survey']\n",
      "109 [text:u'Uruguay', number:7.9, text:u'y', number:8.3, number:7.5, text:u'-', text:u'-', text:u'-', text:u'-', text:u'-', text:u'-', text:u'-', number:2006.0, text:u'ENHA']\n",
      "110 [text:u'Venezuela (Bolivarian Republic of)', number:7.7, empty:u'', number:9.2, number:6.2, text:u'-', text:u'-', text:u'-', text:u'-', text:u'-', text:u'-', text:u'-', number:2000.0, text:u'MICS']\n",
      "111 [text:u'Viet Nam', number:6.9, empty:u'', number:6.5, number:7.4, number:4.1, number:7.9, number:11.9, number:9.6, number:5.1, number:3.7, number:2.3, number:2011.0, text:u'MICS']\n",
      "112 [text:u'Yemen', number:22.7, empty:u'', number:21.1, number:24.4, number:8.1, number:28.6, number:36.8, number:28.5, number:22.7, number:13.6, number:10.2, number:2006.0, text:u'MICS']\n",
      "113 [text:u'Zambia', number:40.6, text:u'y', number:41.6, number:39.5, number:9.2, number:56.0, text:u'-', text:u'-', text:u'-', text:u'-', text:u'-', number:2005.0, text:u'Other National Survey, UCW calculations']\n",
      "114 [empty:u'', empty:u'', empty:u'', empty:u'', empty:u'', empty:u'', empty:u'', empty:u'', empty:u'', empty:u'', empty:u'', empty:u'', empty:u'', empty:u'']\n",
      "115 [text:u'Sub-Saharan Africa', number:24.971247439998038, empty:u'', number:25.360921492010025, number:24.54592292310616, text:u'\\u2013', text:u'\\u2013', text:u'\\u2013', text:u'\\u2013', text:u'\\u2013', text:u'\\u2013', text:u'\\u2013', empty:u'', empty:u'']\n",
      "116 [text:u'Eastern and Southern Africa', number:25.260535889918042, empty:u'', number:26.52655776473469, number:23.914511793758958, text:u'\\u2013', text:u'\\u2013', text:u'\\u2013', text:u'\\u2013', text:u'\\u2013', text:u'\\u2013', text:u'\\u2013', empty:u'', empty:u'']\n",
      "117 [text:u'West and Central Africa', number:24.79921828162676, empty:u'', number:24.593858857812133, number:25.01060717034784, text:u'\\u2013', text:u'\\u2013', text:u'\\u2013', text:u'\\u2013', text:u'\\u2013', text:u'\\u2013', text:u'\\u2013', empty:u'', empty:u'']\n",
      "118 [text:u'Middle East and North Africa', number:8.908409240697537, empty:u'', number:10.601358130447883, number:7.139944708092362, text:u'\\u2013', text:u'\\u2013', text:u'\\u2013', text:u'\\u2013', text:u'\\u2013', text:u'\\u2013', text:u'\\u2013', empty:u'', empty:u'']\n",
      "119 [text:u'South Asia', number:12.367478968427415, empty:u'', number:12.62776670207997, number:12.00494487622905, text:u'\\u2013', text:u'\\u2013', text:u'\\u2013', text:u'\\u2013', text:u'\\u2013', text:u'\\u2013', text:u'\\u2013', empty:u'', empty:u'']\n",
      "120 [text:u'East Asia and Pacific', number:8.395057888152063, text:u'**', number:9.517664037077507, number:7.178416066469366, text:u'\\u2013', text:u'\\u2013', text:u'\\u2013', text:u'\\u2013', text:u'\\u2013', text:u'\\u2013', text:u'\\u2013', empty:u'', empty:u'']\n",
      "121 [text:u'Latin America and Caribbean', number:10.977444542743939, empty:u'', number:13.125494516092125, number:9.131198495063732, text:u'\\u2013', text:u'\\u2013', text:u'\\u2013', text:u'\\u2013', text:u'\\u2013', text:u'\\u2013', text:u'\\u2013', empty:u'', empty:u'']\n",
      "122 [text:u'CEE/CIS', number:5.420397937973456, empty:u'', number:6.539194669306934, number:4.213870248951129, text:u'\\u2013', text:u'\\u2013', text:u'\\u2013', text:u'\\u2013', text:u'\\u2013', text:u'\\u2013', text:u'\\u2013', empty:u'', empty:u'']\n",
      "123 [text:u'Least developed countries', number:21.6656626531534, empty:u'', number:22.785449314907545, number:20.51783765989917, text:u'\\u2013', text:u'\\u2013', text:u'\\u2013', text:u'\\u2013', text:u'\\u2013', text:u'\\u2013', text:u'\\u2013', empty:u'', empty:u'']\n",
      "124 [text:u'World', number:12.631385083612308, text:u'**', number:13.468450007390524, number:11.74769381493197, text:u'\\u2013', text:u'\\u2013', text:u'\\u2013', text:u'\\u2013', text:u'\\u2013', text:u'\\u2013', text:u'\\u2013', empty:u'', empty:u'']\n",
      "125 [empty:u'', empty:u'', empty:u'', empty:u'', empty:u'', empty:u'', empty:u'', empty:u'', empty:u'', empty:u'', empty:u'', empty:u'', empty:u'', empty:u'']\n",
      "126 [text:u'\\u2013 Data not available', empty:u'', empty:u'', empty:u'', empty:u'', empty:u'', empty:u'', empty:u'', empty:u'', empty:u'', empty:u'', empty:u'', empty:u'', empty:u'']\n",
      "127 [text:u'y Data differ from the standard definition or refer to only part of a country. ', empty:u'', empty:u'', empty:u'', empty:u'', empty:u'', empty:u'', empty:u'', empty:u'', empty:u'', empty:u'', empty:u'', empty:u'', empty:u'']\n",
      "128 [text:u'** Excludes China.', empty:u'', empty:u'', empty:u'', empty:u'', empty:u'', empty:u'', empty:u'', empty:u'', empty:u'', empty:u'', empty:u'', empty:u'', empty:u'']\n",
      "129 [empty:u'', empty:u'', empty:u'', empty:u'', empty:u'', empty:u'', empty:u'', empty:u'', empty:u'', empty:u'', empty:u'', empty:u'', empty:u'', empty:u'']\n",
      "130 [text:u'Indicator definition: Percentage of children 5\\u201314 years old involved in child labour at the moment of the survey. A child is considered to be involved in child labour under the following conditions: (a) children 5\\u201311 years old who, during the reference week, did at least one hour of economic activity or at least 28 hours of household chores, or (b) children 12\\u201314 years old who, during the reference week, did at least 14 hours of economic activity or at least 28 hours of household chores.', empty:u'', empty:u'', empty:u'', empty:u'', empty:u'', empty:u'', empty:u'', empty:u'', empty:u'', empty:u'', empty:u'', empty:u'', empty:u'']\n",
      "131 [empty:u'', empty:u'', empty:u'', empty:u'', empty:u'', empty:u'', empty:u'', empty:u'', empty:u'', empty:u'', empty:u'', empty:u'', empty:u'', empty:u'']\n",
      "132 [text:u'Notes: Data from the fourth round of MICS (MICS4, 2009\\u20132012) included in the table have been recalculated according to the indicator definition used in MICS3 surveys, to ensure cross-country comparability. In this definition, the activities of fetching water or collecting firewood are classified as household chores rather than as an economic activity. Under this approach, a child between the ages of 5\\u201314 years old would have to be engaged in fetching water or collecting firewood for at least 28 hours per week to be considered as a child labourer.', empty:u'', empty:u'', empty:u'', empty:u'', empty:u'', empty:u'', empty:u'', empty:u'', empty:u'', empty:u'', empty:u'', empty:u'', empty:u'']\n",
      "133 [text:u'Source: UNICEF global databases, 2014, based on DHS, MICS and other nationally representative surveys.', empty:u'', empty:u'', empty:u'', empty:u'', empty:u'', empty:u'', empty:u'', empty:u'', empty:u'', empty:u'', empty:u'', empty:u'', empty:u'']\n"
     ]
    }
   ],
   "source": [
    "sheet = workbook.sheets()[0]\n",
    "sheet.nrows\n",
    "sheet.row_values(0)\n",
    "\n",
    "for r in range(sheet.nrows):\n",
    "    print r, sheet.row(r)"
   ]
  },
  {
   "cell_type": "code",
   "execution_count": 14,
   "metadata": {},
   "outputs": [
    {
     "data": {
      "text/plain": [
       "[(u'', u'Countries and areas'),\n",
       " (u'Total (%)', u''),\n",
       " (u'', u''),\n",
       " (u'Sex (%)', u'Male'),\n",
       " (u'', u'Female'),\n",
       " (u'Place of residence (%)', u'Urban'),\n",
       " (u'', u'Rural'),\n",
       " (u'Household wealth quintile (%)', u'Poorest'),\n",
       " (u'', u'Second'),\n",
       " (u'', u'Middle'),\n",
       " (u'', u'Fourth'),\n",
       " (u'', u'Richest'),\n",
       " (u'Reference Year', u''),\n",
       " (u'Data Source', u'')]"
      ]
     },
     "execution_count": 14,
     "metadata": {},
     "output_type": "execute_result"
    }
   ],
   "source": [
    "title_rows = zip(sheet.row_values(4), sheet.row_values(5))\n",
    "title_rows"
   ]
  },
  {
   "cell_type": "code",
   "execution_count": 16,
   "metadata": {},
   "outputs": [
    {
     "data": {
      "text/plain": [
       "[u'Countries and areas',\n",
       " u'Total (%)',\n",
       " u'',\n",
       " u'Sex (%) Male',\n",
       " u'Female',\n",
       " u'Place of residence (%) Urban',\n",
       " u'Rural',\n",
       " u'Household wealth quintile (%) Poorest',\n",
       " u'Second',\n",
       " u'Middle',\n",
       " u'Fourth',\n",
       " u'Richest',\n",
       " u'Reference Year',\n",
       " u'Data Source']"
      ]
     },
     "execution_count": 16,
     "metadata": {},
     "output_type": "execute_result"
    }
   ],
   "source": [
    "titles = [t[0] + ' ' + t[1] for t in title_rows]\n",
    "titles = [t.strip() for t in titles]\n",
    "titles"
   ]
  },
  {
   "cell_type": "code",
   "execution_count": 17,
   "metadata": {},
   "outputs": [
    {
     "name": "stdout",
     "output_type": "stream",
     "text": [
      "[text:u'Afghanistan', number:10.3, empty:u'', number:11.0, number:9.6, number:7.9, number:10.8, number:11.9, number:11.8, number:10.1, number:9.7, number:7.8, text:u'2010-2011', text:u'MICS']\n",
      "1\n",
      "Afghanistan\n",
      "{0: 'empty', 1: 'text', 2: 'number', 3: 'xldate', 4: 'bool', 5: 'error', 6: 'blank'}\n"
     ]
    }
   ],
   "source": [
    "from xlrd.sheet import ctype_text\n",
    "import agate\n",
    "\n",
    "text_type = agate.Text()\n",
    "number_type = agate.Number()\n",
    "boolean_type = agate.Boolean()\n",
    "date_type = agate.Date()\n",
    "\n",
    "example_row = sheet.row(6)\n",
    "print example_row\n",
    "print example_row[0].ctype\n",
    "print example_row[0].value\n",
    "print ctype_text\n"
   ]
  },
  {
   "cell_type": "code",
   "execution_count": 19,
   "metadata": {},
   "outputs": [
    {
     "data": {
      "text/plain": [
       "[u'Countries and areas',\n",
       " u'Total (%)',\n",
       " u'',\n",
       " u'Sex (%) Male',\n",
       " u'Female',\n",
       " u'Place of residence (%) Urban',\n",
       " u'Rural',\n",
       " u'Household wealth quintile (%) Poorest',\n",
       " u'Second',\n",
       " u'Middle',\n",
       " u'Fourth',\n",
       " u'Richest',\n",
       " u'Reference Year',\n",
       " u'Data Source']"
      ]
     },
     "execution_count": 19,
     "metadata": {},
     "output_type": "execute_result"
    }
   ],
   "source": [
    "types = []\n",
    "\n",
    "for v in example_row:\n",
    "    value_type = ctype_text[v.ctype]\n",
    "    if value_type == 'text':\n",
    "        types.append(text_type)\n",
    "    elif value_type == 'number':\n",
    "        types.append(number_type)\n",
    "    elif value_type == 'xldate':\n",
    "        types.append(date_type)\n",
    "    else:\n",
    "        types.append(text_type)\n",
    "types\n",
    "titles"
   ]
  },
  {
   "cell_type": "code",
   "execution_count": 20,
   "metadata": {},
   "outputs": [
    {
     "name": "stderr",
     "output_type": "stream",
     "text": [
      "C:\\Users\\Spencer\\Anaconda3\\envs\\py27\\lib\\site-packages\\agate\\utils.py:276: UnnamedColumnWarning: Column 2 has no name. Using \"c\".\n"
     ]
    },
    {
     "ename": "CastError",
     "evalue": "Can not parse value \"\" as Decimal. Error at row 1 column Place of residence (%) Urban.",
     "output_type": "error",
     "traceback": [
      "\u001b[1;31m\u001b[0m",
      "\u001b[1;31mCastError\u001b[0mTraceback (most recent call last)",
      "\u001b[1;32m<ipython-input-20-02cfd73ba858>\u001b[0m in \u001b[0;36m<module>\u001b[1;34m()\u001b[0m\n\u001b[1;32m----> 1\u001b[1;33m \u001b[0mtable\u001b[0m \u001b[1;33m=\u001b[0m \u001b[0magate\u001b[0m\u001b[1;33m.\u001b[0m\u001b[0mTable\u001b[0m\u001b[1;33m(\u001b[0m\u001b[0mcountry_rows\u001b[0m\u001b[1;33m,\u001b[0m \u001b[0mtitles\u001b[0m\u001b[1;33m,\u001b[0m \u001b[0mtypes\u001b[0m\u001b[1;33m)\u001b[0m\u001b[1;33m\u001b[0m\u001b[0m\n\u001b[0m",
      "\u001b[1;32mC:\\Users\\Spencer\\Anaconda3\\envs\\py27\\lib\\site-packages\\agate\\table\\__init__.pyc\u001b[0m in \u001b[0;36m__init__\u001b[1;34m(self, rows, column_names, column_types, row_names, _is_fork)\u001b[0m\n\u001b[0;32m    131\u001b[0m                         \u001b[0mrow_values\u001b[0m\u001b[1;33m.\u001b[0m\u001b[0mappend\u001b[0m\u001b[1;33m(\u001b[0m\u001b[0mcast_funcs\u001b[0m\u001b[1;33m[\u001b[0m\u001b[0mj\u001b[0m\u001b[1;33m]\u001b[0m\u001b[1;33m(\u001b[0m\u001b[0md\u001b[0m\u001b[1;33m)\u001b[0m\u001b[1;33m)\u001b[0m\u001b[1;33m\u001b[0m\u001b[0m\n\u001b[0;32m    132\u001b[0m                     \u001b[1;32mexcept\u001b[0m \u001b[0mCastError\u001b[0m \u001b[1;32mas\u001b[0m \u001b[0me\u001b[0m\u001b[1;33m:\u001b[0m\u001b[1;33m\u001b[0m\u001b[0m\n\u001b[1;32m--> 133\u001b[1;33m                         \u001b[1;32mraise\u001b[0m \u001b[0mCastError\u001b[0m\u001b[1;33m(\u001b[0m\u001b[0mstr\u001b[0m\u001b[1;33m(\u001b[0m\u001b[0me\u001b[0m\u001b[1;33m)\u001b[0m \u001b[1;33m+\u001b[0m \u001b[1;34m' Error at row %s column %s.'\u001b[0m \u001b[1;33m%\u001b[0m \u001b[1;33m(\u001b[0m\u001b[0mi\u001b[0m\u001b[1;33m,\u001b[0m \u001b[0mself\u001b[0m\u001b[1;33m.\u001b[0m\u001b[0m_column_names\u001b[0m\u001b[1;33m[\u001b[0m\u001b[0mj\u001b[0m\u001b[1;33m]\u001b[0m\u001b[1;33m)\u001b[0m\u001b[1;33m)\u001b[0m\u001b[1;33m\u001b[0m\u001b[0m\n\u001b[0m\u001b[0;32m    134\u001b[0m \u001b[1;33m\u001b[0m\u001b[0m\n\u001b[0;32m    135\u001b[0m                 \u001b[0mnew_rows\u001b[0m\u001b[1;33m.\u001b[0m\u001b[0mappend\u001b[0m\u001b[1;33m(\u001b[0m\u001b[0mRow\u001b[0m\u001b[1;33m(\u001b[0m\u001b[0mrow_values\u001b[0m\u001b[1;33m,\u001b[0m \u001b[0mself\u001b[0m\u001b[1;33m.\u001b[0m\u001b[0m_column_names\u001b[0m\u001b[1;33m)\u001b[0m\u001b[1;33m)\u001b[0m\u001b[1;33m\u001b[0m\u001b[0m\n",
      "\u001b[1;31mCastError\u001b[0m: Can not parse value \"\" as Decimal. Error at row 1 column Place of residence (%) Urban."
     ]
    }
   ],
   "source": [
    "table = agate.Table(country_rows, titles, types)"
   ]
  },
  {
   "cell_type": "code",
   "execution_count": 21,
   "metadata": {},
   "outputs": [
    {
     "name": "stdout",
     "output_type": "stream",
     "text": [
      "| Countries and areas  | Total (%) | c | Sex (%) Male | Female | Place of residenc... | Rural | ... |\n",
      "| -------------------- | --------- | - | ------------ | ------ | -------------------- | ----- | --- |\n",
      "| Afghanistan          |      10.3 |   |         11.0 |    9.6 |                  7.9 |  10.8 | ... |\n",
      "| Albania              |       5.1 | y |          6.2 |    3.9 |                      |       | ... |\n",
      "| Algeria              |       4.7 | y |          5.5 |    3.9 |                  3.9 |   5.6 | ... |\n",
      "| Angola               |      23.5 |   |         22.1 |   24.8 |                      |       | ... |\n",
      "| Argentina            |       4.4 |   |          4.8 |    3.9 |                      |       | ... |\n",
      "| Armenia              |       3.9 |   |          4.7 |    2.9 |                  2.4 |   6.0 | ... |\n",
      "| Azerbaijan           |       6.5 | y |          7.5 |    5.4 |                  2.1 |  10.7 | ... |\n",
      "| Bahrain              |       4.6 |   |          6.3 |    3.0 |                      |       | ... |\n",
      "| Bangladesh           |      12.8 |   |         17.5 |    8.1 |                 11.2 |  13.4 | ... |\n",
      "| Belarus              |       1.4 |   |          1.4 |    1.5 |                  1.3 |   1.8 | ... |\n",
      "| Belize               |       5.8 |   |          6.7 |    5.0 |                  3.2 |   7.4 | ... |\n",
      "| Benin                |      15.3 |   |         14.9 |   15.6 |                 10.5 |  18.1 | ... |\n",
      "| Bhutan               |       2.9 |   |          2.6 |    3.1 |                  1.7 |   3.3 | ... |\n",
      "| Bolivia (Plurinat... |      26.4 | y |         28.2 |   24.4 |                 15.1 |  64.6 | ... |\n",
      "| Bosnia and Herzeg... |       5.3 |   |          6.6 |    3.9 |                  3.2 |   6.4 | ... |\n",
      "| Botswana             |       9.0 | y |         10.9 |    7.0 |                 11.3 |  12.6 | ... |\n",
      "| Brazil               |       8.3 | y |         10.6 |    6.0 |                      |       | ... |\n",
      "| Burkina Faso         |      39.2 |   |         42.3 |   36.0 |                 17.3 |  44.0 | ... |\n",
      "| Burundi              |      26.3 |   |         25.5 |   27.1 |                 14.5 |  27.4 | ... |\n",
      "| Cabo Verde           |       6.4 | y |              |        |                      |       | ... |\n",
      "| ...                  |       ... | ... |          ... |    ... |                  ... |   ... | ... |\n"
     ]
    },
    {
     "name": "stderr",
     "output_type": "stream",
     "text": [
      "C:\\Users\\Spencer\\Anaconda3\\envs\\py27\\lib\\site-packages\\agate\\utils.py:276: UnnamedColumnWarning: Column 2 has no name. Using \"c\".\n",
      "C:\\Users\\Spencer\\Anaconda3\\envs\\py27\\lib\\site-packages\\agate\\utils.py:276: UnnamedColumnWarning: Column 2 has no name. Using \"c\".\n"
     ]
    },
    {
     "data": {
      "text/plain": [
       "(u'Countries and areas',\n",
       " u'Total (%)',\n",
       " 'c',\n",
       " u'Sex (%) Male',\n",
       " u'Female',\n",
       " u'Place of residence (%) Urban',\n",
       " u'Rural',\n",
       " u'Household wealth quintile (%) Poorest',\n",
       " u'Second',\n",
       " u'Middle',\n",
       " u'Fourth',\n",
       " u'Richest',\n",
       " u'Reference Year',\n",
       " u'Data Source')"
      ]
     },
     "execution_count": 21,
     "metadata": {},
     "output_type": "execute_result"
    }
   ],
   "source": [
    "def remove_bad_chars(val):\n",
    "    if val == '-':\n",
    "        return None\n",
    "    return val\n",
    "\n",
    "cleaned_rows = []\n",
    "for row in country_rows:\n",
    "    cleaned_row = [remove_bad_chars(rv) for rv in row]\n",
    "    cleaned_rows.append(cleaned_row)\n",
    "\n",
    "table = agate.Table(cleaned_rows, titles, types)\n",
    "table\n",
    "\n",
    "\n",
    "def get_new_array(old_array, function_to_clean):\n",
    "    new_arr = []\n",
    "    for row in old_array:\n",
    "        cleaned_row = [function_to_clean(rv) for rv in row]\n",
    "        new_arr.append(cleaned_row)\n",
    "    return new_arr\n",
    "\n",
    "cleaned_rows = get_new_array(country_rows, remove_bad_chars)\n",
    "\n",
    "table = agate.Table(cleaned_rows, titles, types)\n",
    "table.print_table(max_columns=7)\n",
    "table.column_names"
   ]
  },
  {
   "cell_type": "code",
   "execution_count": 25,
   "metadata": {},
   "outputs": [
    {
     "name": "stdout",
     "output_type": "stream",
     "text": [
      "<agate.Row: (u'Somalia', Decimal('49.0'), None, Decimal('44.5'), Decimal('53.6'), ...)>\n",
      "<agate.Row: (u'Cameroon', Decimal('41.7'), None, Decimal('43.1'), Decimal('40.2'), ...)>\n",
      "<agate.Row: (u'Zambia', Decimal('40.6'), u'y', Decimal('41.6'), Decimal('39.5'), ...)>\n",
      "<agate.Row: (u'Burkina Faso', Decimal('39.2'), None, Decimal('42.3'), Decimal('36.0'), ...)>\n",
      "<agate.Row: (u'Guinea-Bissau', Decimal('38.0'), None, Decimal('39.5'), Decimal('36.4'), ...)>\n",
      "<agate.Row: (u'Ghana', Decimal('33.9'), None, Decimal('33.8'), Decimal('34.0'), ...)>\n",
      "<agate.Row: (u'Nepal', Decimal('33.9'), u'y', Decimal('30.2'), Decimal('37.8'), ...)>\n",
      "<agate.Row: (u'Peru', Decimal('33.5'), u'y', Decimal('30.6'), Decimal('36.3'), ...)>\n",
      "<agate.Row: (u'Niger', Decimal('30.5'), None, Decimal('30.8'), Decimal('30.1'), ...)>\n",
      "<agate.Row: (u'Central African Republic', Decimal('28.5'), None, Decimal('27.2'), Decimal('29.9'), ...)>\n"
     ]
    }
   ],
   "source": [
    "most_egregious = table.order_by('Total (%)', reverse=True).limit(10)\n",
    "for r in most_egregious.rows:\n",
    "    print r"
   ]
  },
  {
   "cell_type": "code",
   "execution_count": 26,
   "metadata": {},
   "outputs": [
    {
     "name": "stdout",
     "output_type": "stream",
     "text": [
      "Cabo Verde: None%\n",
      "Chile: None%\n",
      "Ecuador: None%\n",
      "Somalia: 53.6%\n",
      "Cameroon: 40.2%\n",
      "Zambia: 39.5%\n",
      "Nepal: 37.8%\n",
      "Guinea-Bissau: 36.4%\n",
      "Peru: 36.3%\n",
      "Burkina Faso: 36.0%\n"
     ]
    }
   ],
   "source": [
    "most_females = table.order_by('Female', reverse=True).limit(10)\n",
    "for r in most_females.rows:\n",
    "    print '{}: {}%'.format(r['Countries and areas'], r['Female'])"
   ]
  },
  {
   "cell_type": "code",
   "execution_count": 27,
   "metadata": {},
   "outputs": [
    {
     "name": "stdout",
     "output_type": "stream",
     "text": [
      "Somalia: 53.6%\n",
      "Cameroon: 40.2%\n",
      "Zambia: 39.5%\n",
      "Nepal: 37.8%\n",
      "Guinea-Bissau: 36.4%\n",
      "Peru: 36.3%\n",
      "Burkina Faso: 36.0%\n",
      "Ghana: 34.0%\n",
      "Rwanda: 30.4%\n",
      "Niger: 30.1%\n"
     ]
    }
   ],
   "source": [
    "female_data = table.where(lambda r: r['Female'] is not None)\n",
    "most_females = female_data.order_by('Female', reverse=True).limit(10)\n",
    "for r in most_females.rows:\n",
    "    print '{}: {}%'.format(r['Countries and areas'], r['Female'])"
   ]
  },
  {
   "cell_type": "code",
   "execution_count": 28,
   "metadata": {},
   "outputs": [
    {
     "data": {
      "text/plain": [
       "'Positive'"
      ]
     },
     "execution_count": 28,
     "metadata": {},
     "output_type": "execute_result"
    }
   ],
   "source": [
    "(lambda x: 'Positive' if x >= 1 else 'Zero or Negative')(0)\n",
    "(lambda x: 'Positive' if x >= 1 else 'Zero or Negative')(4)"
   ]
  },
  {
   "cell_type": "code",
   "execution_count": 29,
   "metadata": {},
   "outputs": [
    {
     "ename": "AttributeError",
     "evalue": "'Column' object has no attribute 'aggregate'",
     "output_type": "error",
     "traceback": [
      "\u001b[1;31m\u001b[0m",
      "\u001b[1;31mAttributeError\u001b[0mTraceback (most recent call last)",
      "\u001b[1;32m<ipython-input-29-5b40f2df9122>\u001b[0m in \u001b[0;36m<module>\u001b[1;34m()\u001b[0m\n\u001b[1;32m----> 1\u001b[1;33m \u001b[0mtable\u001b[0m\u001b[1;33m.\u001b[0m\u001b[0mcolumns\u001b[0m\u001b[1;33m[\u001b[0m\u001b[1;34m'Place of residence (%) Urban'\u001b[0m\u001b[1;33m]\u001b[0m\u001b[1;33m.\u001b[0m\u001b[0maggregate\u001b[0m\u001b[1;33m(\u001b[0m\u001b[0magate\u001b[0m\u001b[1;33m.\u001b[0m\u001b[0mMean\u001b[0m\u001b[1;33m(\u001b[0m\u001b[1;33m)\u001b[0m\u001b[1;33m)\u001b[0m\u001b[1;33m\u001b[0m\u001b[0m\n\u001b[0m\u001b[0;32m      2\u001b[0m \u001b[0mcol\u001b[0m \u001b[1;33m=\u001b[0m \u001b[0mtable\u001b[0m\u001b[1;33m.\u001b[0m\u001b[0mcolumns\u001b[0m\u001b[1;33m[\u001b[0m\u001b[1;34m'Place of residence (%) Urban'\u001b[0m\u001b[1;33m]\u001b[0m\u001b[1;33m\u001b[0m\u001b[0m\n\u001b[0;32m      3\u001b[0m \u001b[0mtable\u001b[0m\u001b[1;33m.\u001b[0m\u001b[0maggregate\u001b[0m\u001b[1;33m(\u001b[0m\u001b[0magate\u001b[0m\u001b[1;33m.\u001b[0m\u001b[0mMean\u001b[0m\u001b[1;33m(\u001b[0m\u001b[1;34m'Place of residence (%) Urban'\u001b[0m\u001b[1;33m)\u001b[0m\u001b[1;33m)\u001b[0m\u001b[1;33m\u001b[0m\u001b[0m\n",
      "\u001b[1;31mAttributeError\u001b[0m: 'Column' object has no attribute 'aggregate'"
     ]
    }
   ],
   "source": [
    "table.columns['Place of residence (%) Urban'].aggregate(agate.Mean())\n",
    "col = table.columns['Place of residence (%) Urban']\n",
    "table.aggregate(agate.Mean('Place of residence (%) Urban'))"
   ]
  },
  {
   "cell_type": "code",
   "execution_count": 30,
   "metadata": {},
   "outputs": [
    {
     "data": {
      "text/plain": [
       "Decimal('10.41204819277108433734939759')"
      ]
     },
     "execution_count": 30,
     "metadata": {},
     "output_type": "execute_result"
    }
   ],
   "source": [
    "has_por = table.where(lambda r: r['Place of residence (%) Urban'] is not None)\n",
    "has_por.aggregate(agate.Mean('Place of residence (%) Urban'))"
   ]
  },
  {
   "cell_type": "code",
   "execution_count": 31,
   "metadata": {},
   "outputs": [
    {
     "data": {
      "text/plain": [
       "u'Bolivia (Plurinational State of)'"
      ]
     },
     "execution_count": 31,
     "metadata": {},
     "output_type": "execute_result"
    }
   ],
   "source": [
    "first_match = has_por.find(lambda x: x['Rural'] > 50)\n",
    "first_match['Countries and areas']\n"
   ]
  },
  {
   "cell_type": "code",
   "execution_count": 32,
   "metadata": {},
   "outputs": [
    {
     "name": "stdout",
     "output_type": "stream",
     "text": [
      "49.0 1\n",
      "41.7 2\n",
      "40.6 3\n",
      "39.2 4\n",
      "38.0 5\n",
      "33.9 6\n",
      "33.9 6\n",
      "33.5 8\n",
      "30.5 9\n",
      "28.5 10\n",
      "28.5 10\n",
      "28.3 12\n",
      "28.3 12\n",
      "27.8 14\n",
      "27.6 15\n",
      "27.4 16\n",
      "26.4 17\n",
      "26.4 17\n",
      "26.3 19\n",
      "26.1 20\n"
     ]
    }
   ],
   "source": [
    "ranked = table.compute([('Total Child Labor Rank', agate.Rank('Total (%)', reverse=True)),])\n",
    "for row in ranked.order_by('Total (%)', reverse=True).limit(20).rows:\n",
    "    print row['Total (%)'], row['Total Child Labor Rank']"
   ]
  },
  {
   "cell_type": "code",
   "execution_count": 33,
   "metadata": {},
   "outputs": [],
   "source": [
    "def reverse_percent(row):\n",
    "    return 100 - row['Total (%)']\n",
    "ranked = table.compute([('Children not working (%)',\n",
    "                             agate.Formula(number_type, reverse_percent)),\n",
    "                            ])"
   ]
  },
  {
   "cell_type": "code",
   "execution_count": 34,
   "metadata": {},
   "outputs": [],
   "source": [
    "ranked = ranked.compute([('Total Child Labor Rank',\n",
    "                              agate.Rank('Children not working (%)')),\n",
    "                           ])"
   ]
  },
  {
   "cell_type": "code",
   "execution_count": 35,
   "metadata": {},
   "outputs": [
    {
     "name": "stdout",
     "output_type": "stream",
     "text": [
      "49.0 1\n",
      "41.7 2\n",
      "40.6 3\n",
      "39.2 4\n",
      "38.0 5\n",
      "33.9 6\n",
      "33.9 6\n",
      "33.5 8\n",
      "30.5 9\n",
      "28.5 10\n",
      "28.5 10\n",
      "28.3 12\n",
      "28.3 12\n",
      "27.8 14\n",
      "27.6 15\n",
      "27.4 16\n",
      "26.4 17\n",
      "26.4 17\n",
      "26.3 19\n",
      "26.1 20\n"
     ]
    }
   ],
   "source": [
    "for row in ranked.order_by('Total (%)', reverse=True).limit(20).rows:\n",
    "    print row['Total (%)'], row['Total Child Labor Rank']"
   ]
  },
  {
   "cell_type": "code",
   "execution_count": null,
   "metadata": {},
   "outputs": [],
   "source": [
    "import matplotlib.pyplot as plt\n",
    "\n",
    "\n",
    "plt.plot(africa_cpi_cl.columns['CPI 2013 Score'],\n",
    "         africa_cpi_cl.columns['Total (%)'])\n",
    "plt.xlabel('CPI Score - 2013')\n",
    "plt.ylabel('Child Labor Percentage')\n",
    "plt.title('CPI & Child Labor Correlation')\n",
    "plt.show()\n",
    "\n",
    "\n",
    "plt.plot(highest_cpi_cl.columns['CPI 2013 Score'],\n",
    "         highest_cpi_cl.columns['Total (%)'])\n",
    "plt.xlabel('CPI Score - 2013')\n",
    "plt.ylabel('Child Labor Percentage')\n",
    "plt.title('CPI & Child Labor Correlation')\n",
    "plt.show()"
   ]
  }
 ],
 "metadata": {
  "kernelspec": {
   "display_name": "Python 3",
   "language": "python",
   "name": "python3"
  },
  "language_info": {
   "codemirror_mode": {
    "name": "ipython",
    "version": 3
   },
   "file_extension": ".py",
   "mimetype": "text/x-python",
   "name": "python",
   "nbconvert_exporter": "python",
   "pygments_lexer": "ipython3",
   "version": "3.7.0"
  }
 },
 "nbformat": 4,
 "nbformat_minor": 2
}
